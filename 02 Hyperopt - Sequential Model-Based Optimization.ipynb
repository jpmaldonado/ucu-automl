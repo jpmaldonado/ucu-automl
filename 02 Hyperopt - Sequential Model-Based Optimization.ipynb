{
 "cells": [
  {
   "cell_type": "code",
   "execution_count": 1,
   "metadata": {},
   "outputs": [],
   "source": [
    "#!conda install pandas -y \n",
    "#!pip install hyperopt"
   ]
  },
  {
   "cell_type": "code",
   "execution_count": 2,
   "metadata": {},
   "outputs": [],
   "source": [
    "import numpy as np \n",
    "import pandas as pd\n",
    "import matplotlib.pyplot as plt"
   ]
  },
  {
   "cell_type": "code",
   "execution_count": 3,
   "metadata": {},
   "outputs": [],
   "source": [
    "from sklearn.model_selection import cross_val_score\n",
    "from sklearn.datasets import load_diabetes\n",
    "from sklearn.linear_model import Lasso"
   ]
  },
  {
   "cell_type": "code",
   "execution_count": 4,
   "metadata": {},
   "outputs": [],
   "source": [
    "def f(x): \n",
    "    return -np.sin(3*x)-x**2-0.7*x"
   ]
  },
  {
   "cell_type": "code",
   "execution_count": 5,
   "metadata": {},
   "outputs": [],
   "source": [
    "X, y = load_diabetes(return_X_y=True)\n",
    "\n",
    "def f(alpha):\n",
    "    reg = Lasso(alpha)\n",
    "    reg.fit(X,y)\n",
    "    score = cross_val_score(reg, X,y, scoring='neg_mean_squared_error').mean()\n",
    "    return score  "
   ]
  },
  {
   "cell_type": "markdown",
   "metadata": {},
   "source": [
    "**Goal:** Minimize $f$ using `Hyperopt`. Let's pretend for a moment that $f(x)$ is actually the loss function of machine learning problem with hyperparameter $x$."
   ]
  },
  {
   "cell_type": "code",
   "execution_count": 6,
   "metadata": {},
   "outputs": [],
   "source": [
    "#x = np.linspace(-1, 1, 1000)\n",
    "#y = f(x)\n",
    "\n",
    "# Place where the minimum is reached, and the value there.\n",
    "#x_min = x[np.argmin(y)]\n",
    "#y_min = min(y)"
   ]
  },
  {
   "cell_type": "code",
   "execution_count": 7,
   "metadata": {},
   "outputs": [],
   "source": [
    "#print(x_min)\n",
    "#print(y_min)"
   ]
  },
  {
   "cell_type": "code",
   "execution_count": 8,
   "metadata": {},
   "outputs": [],
   "source": [
    "#plt.plot(x,y);"
   ]
  },
  {
   "cell_type": "markdown",
   "metadata": {},
   "source": [
    "### Example: Compare random search for hyperparameter optimization against TPE"
   ]
  },
  {
   "cell_type": "code",
   "execution_count": 9,
   "metadata": {},
   "outputs": [],
   "source": [
    "from hyperopt import hp\n",
    "\n",
    "# Create domain space: generator for our space\n",
    "mesh = hp.uniform('x', 0, 1)"
   ]
  },
  {
   "cell_type": "code",
   "execution_count": 10,
   "metadata": {},
   "outputs": [],
   "source": [
    "# Create `Trials` object to store simulation history\n",
    "from hyperopt import Trials\n",
    "\n",
    "tpe_trials = Trials()\n",
    "rand_trials = Trials()\n",
    "\n",
    "# Algorithms to sample from\n",
    "from hyperopt import rand, tpe # random search and TPE\n",
    "\n",
    "tpe_algo = tpe.suggest\n",
    "rand_algo = rand.suggest"
   ]
  },
  {
   "cell_type": "markdown",
   "metadata": {},
   "source": [
    "#### Simulation time!"
   ]
  },
  {
   "cell_type": "code",
   "execution_count": 11,
   "metadata": {},
   "outputs": [
    {
     "name": "stdout",
     "output_type": "stream",
     "text": [
      "100%|█| 1000/1000 [00:26<00:00, 38.01trial/s, best loss: -3850.8263203009105\n",
      "{'x': 0.9999925187354476}\n",
      "100%|█| 1000/1000 [00:15<00:00, 64.63trial/s, best loss: -3850.6866400834924\n",
      "{'x': 0.9999925187354476}\n"
     ]
    }
   ],
   "source": [
    "# Simulation using TPE\n",
    "from hyperopt import fmin\n",
    "\n",
    "# Run evals on TPE\n",
    "tpe_best = fmin(fn=f, space=mesh, algo=tpe_algo, trials=tpe_trials\n",
    "                , max_evals=1000, rstate=np.random.RandomState(123)\n",
    "               )\n",
    "print(tpe_best)\n",
    "\n",
    "# Run evals on TPE\n",
    "rand_best = fmin(fn=f, space=mesh, algo=rand_algo, trials=rand_trials\n",
    "                , max_evals=1000, rstate=np.random.RandomState(123)\n",
    "               )\n",
    "print(tpe_best)"
   ]
  },
  {
   "cell_type": "code",
   "execution_count": 12,
   "metadata": {},
   "outputs": [],
   "source": [
    "tpe_results = pd.DataFrame({\n",
    "                            'iteration':tpe_trials.idxs_vals[0]['x'],\n",
    "                            'x': tpe_trials.idxs_vals[1]['x'],\n",
    "                            'loss':[row['loss'] for row in tpe_trials.results]\n",
    "})\n",
    "\n",
    "rand_results = pd.DataFrame({\n",
    "                            'iteration':rand_trials.idxs_vals[0]['x'],\n",
    "                            'x': rand_trials.idxs_vals[1]['x'],\n",
    "                            'loss':[row['loss'] for row in rand_trials.results]\n",
    "})"
   ]
  },
  {
   "cell_type": "code",
   "execution_count": 13,
   "metadata": {},
   "outputs": [
    {
     "data": {
      "text/html": [
       "<div>\n",
       "<style scoped>\n",
       "    .dataframe tbody tr th:only-of-type {\n",
       "        vertical-align: middle;\n",
       "    }\n",
       "\n",
       "    .dataframe tbody tr th {\n",
       "        vertical-align: top;\n",
       "    }\n",
       "\n",
       "    .dataframe thead th {\n",
       "        text-align: right;\n",
       "    }\n",
       "</style>\n",
       "<table border=\"1\" class=\"dataframe\">\n",
       "  <thead>\n",
       "    <tr style=\"text-align: right;\">\n",
       "      <th></th>\n",
       "      <th>iteration</th>\n",
       "      <th>x</th>\n",
       "      <th>loss</th>\n",
       "    </tr>\n",
       "  </thead>\n",
       "  <tbody>\n",
       "    <tr>\n",
       "      <th>0</th>\n",
       "      <td>0</td>\n",
       "      <td>0.728030</td>\n",
       "      <td>-3512.011235</td>\n",
       "    </tr>\n",
       "    <tr>\n",
       "      <th>1</th>\n",
       "      <td>1</td>\n",
       "      <td>0.858694</td>\n",
       "      <td>-3669.493367</td>\n",
       "    </tr>\n",
       "    <tr>\n",
       "      <th>2</th>\n",
       "      <td>2</td>\n",
       "      <td>0.992518</td>\n",
       "      <td>-3840.768957</td>\n",
       "    </tr>\n",
       "    <tr>\n",
       "      <th>3</th>\n",
       "      <td>3</td>\n",
       "      <td>0.673477</td>\n",
       "      <td>-3451.059046</td>\n",
       "    </tr>\n",
       "    <tr>\n",
       "      <th>4</th>\n",
       "      <td>4</td>\n",
       "      <td>0.562615</td>\n",
       "      <td>-3331.225672</td>\n",
       "    </tr>\n",
       "  </tbody>\n",
       "</table>\n",
       "</div>"
      ],
      "text/plain": [
       "   iteration         x         loss\n",
       "0          0  0.728030 -3512.011235\n",
       "1          1  0.858694 -3669.493367\n",
       "2          2  0.992518 -3840.768957\n",
       "3          3  0.673477 -3451.059046\n",
       "4          4  0.562615 -3331.225672"
      ]
     },
     "execution_count": 13,
     "metadata": {},
     "output_type": "execute_result"
    }
   ],
   "source": [
    "tpe_results.head()"
   ]
  },
  {
   "cell_type": "code",
   "execution_count": 14,
   "metadata": {},
   "outputs": [
    {
     "data": {
      "text/plain": [
       "Text(0, 0.5, 'Value of x')"
      ]
     },
     "execution_count": 14,
     "metadata": {},
     "output_type": "execute_result"
    },
    {
     "data": {
      "image/png": "[encoded data removed]",
      "text/plain": [
       "<Figure size 432x288 with 1 Axes>"
      ]
     },
     "metadata": {
      "needs_background": "light"
     },
     "output_type": "display_data"
    }
   ],
   "source": [
    "plt.plot(tpe_results['iteration'], tpe_results['x'], 'bo')\n",
    "plt.xlabel('Iteration')\n",
    "plt.ylabel('Value of x')"
   ]
  },
  {
   "cell_type": "code",
   "execution_count": 15,
   "metadata": {},
   "outputs": [
    {
     "data": {
      "text/plain": [
       "Text(0, 0.5, 'Value of x')"
      ]
     },
     "execution_count": 15,
     "metadata": {},
     "output_type": "execute_result"
    },
    {
     "data": {
      "image/png": "[encoded data removed]",
      "text/plain": [
       "<Figure size 432x288 with 1 Axes>"
      ]
     },
     "metadata": {
      "needs_background": "light"
     },
     "output_type": "display_data"
    }
   ],
   "source": [
    "plt.plot(rand_results['iteration'], rand_results['x'], 'bo')\n",
    "plt.xlabel('Iteration')\n",
    "plt.ylabel('Value of x')"
   ]
  },
  {
   "cell_type": "code",
   "execution_count": 16,
   "metadata": {},
   "outputs": [
    {
     "data": {
      "image/png": "[encoded data removed]",
      "text/plain": [
       "<Figure size 432x288 with 1 Axes>"
      ]
     },
     "metadata": {
      "needs_background": "light"
     },
     "output_type": "display_data"
    }
   ],
   "source": [
    "plt.hist(tpe_results['x']);"
   ]
  },
  {
   "cell_type": "code",
   "execution_count": null,
   "metadata": {},
   "outputs": [],
   "source": []
  }
 ],
 "metadata": {
  "kernelspec": {
   "display_name": "Python 3",
   "language": "python",
   "name": "python3"
  },
  "language_info": {
   "codemirror_mode": {
    "name": "ipython",
    "version": 3
   },
   "file_extension": ".py",
   "mimetype": "text/x-python",
   "name": "python",
   "nbconvert_exporter": "python",
   "pygments_lexer": "ipython3",
   "version": "3.6.10"
  }
 },
 "nbformat": 4,
 "nbformat_minor": 4
}
